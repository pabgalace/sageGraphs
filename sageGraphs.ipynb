{
 "cells": [
  {
   "cell_type": "markdown",
   "metadata": {},
   "source": [
    "\n",
    "<img src=\"logo-ETSII-US-Horizontal-Color-1675076635.png\" width=\"600\" height=\"500\" align=\"center\">\n",
    "<h3 style=\"text-align: center;\"><strong>ESCUELA DE INGENIERÍA INFORMÁTICA - UNIVERSIDAD DE SEVILLA</strong></h3>\n",
    "<h3 style=\"text-align: center;\"><strong>GRADO EN INGENIERÍA INFORMÁTICA-TECNOLOGÍAS INFORMÁTICAS</strong></h3>\n",
    "<h1 style=\"font-size: 1em; text-align: center;\"><strong>ENTREGABLE FINAL MATI<br /></strong></h1>\n",
    "<p>Este proyecto final ha sido realizado un recopilatorio de todos los apartados presentados en la asignatura. Desde una <strong>introducción de repaso de MD</strong> hasta la <strong>aplicación de medidas y métricas en redes</strong>, para finalizar con un ejercicio de implantación de un grafo práctico.</p>\n",
    "<p>El contenido ha sido realizado con la idea de reflejar, con ejemplos resueltos, todos los apartados recogidos en la materia, con la idea de que el alumno pueda seguir un hilo de como implementar todos los aspectos teóricos. Al final del documento se encuentra un ejercicio propuesto de implementación de un grafo, este represeta las principales conexiones aéreas de Europa.</p>\n",
    "<p>El proyecto contiene los siguientes apartados:</p>\n",
    "<p>1) <a href=\"#tema1\">Fundamentos de la Teoría de Grafos (MD)</a>.\n",
    " <p style=\"margin-left: 30px;\"> 1.1) <a  href=\"#tema1.1\">Introducción a grafos simples</a>. </p>\n",
    " <p style=\"margin-left: 30px;\"> 1.2) <a  href=\"#tema1.2\">Variantes de grafos</a>. </p>\n",
    " <p style=\"margin-left: 30px;\"> 1.3) <a  href=\"#tema1.3\">Aspectos de grafos</a>. </p>\n",
    " <p style=\"margin-left: 30px;\"> 1.4) <a  href=\"#tema1.4\">Grafos conexos</a>. </p>\n",
    " <p style=\"margin-left: 30px;\"> 1.5) <a  href=\"#tema1.5\">Árboles</a>. </p>\n",
    " <p style=\"margin-left: 30px;\"> 1.6) <a  href=\"#tema1.6\">Distancias en grafos (no ponderados)</a>.</p>\n",
    " <p style=\"margin-left: 30px;\"> 1.7) <a  href=\"#tema1.7\">Densidad y dispersión</a>. </p>\n",
    " <p style=\"margin-left: 30px;\"> 1.8) <a  href=\"#tema1.8\">Matriz Laplaciana</a>. </p>\n",
    "</p>\n",
    "    \n",
    "<p>2) <a href=\"#tema2\">Medidas y métricas en redes</a>.</p>\n",
    " <p style=\"margin-left: 30px;\"> 2.1) <a  href=\"#tema2.1\">Centralidad de grado</a>. </p>\n",
    " <p style=\"margin-left: 30px;\"> 2.2) <a  href=\"#tema2.2\">Centro del grafo</a>. </p>\n",
    " <p style=\"margin-left: 30px;\"> 2.3) <a  href=\"#tema2.3\">Autocentralidad</a>. </p>\n",
    " <p style=\"margin-left: 30px;\"> 2.4) <a  href=\"#tema2.4\">Centralidad de Katz</a>. </p>\n",
    " <p style=\"margin-left: 30px;\"> 2.5) <a  href=\"#tema2.5\">PageRank</a>. </p>\n",
    " <p style=\"margin-left: 30px;\"> 2.6) <a  href=\"#tema2.6\">Centralidad de proximidad</a>. </p>\n",
    " <p style=\"margin-left: 30px;\"> 2.7) <a  href=\"#tema2.7\">Intermediación</a>. </p>\n",
    " <p style=\"margin-left: 30px;\"> 2.8) <a  href=\"#tema2.8\">Autoridades y cubos</a>. </p>\n",
    " <p style=\"margin-left: 30px;\"> 2.9) <a  href=\"#tema2.9\">Grupos de vértices</a>. </p>\n",
    " <p style=\"margin-left: 30px;\"> 2.10) <a  href=\"#tema2.10\"> Transitividad</a>. </p>\n",
    "<p>3) <a href=\"#grafoPropuesto\">Propuesta de implementación</a>.</p>\n",
    "<p> </p>\n",
    "<p>    <i>SAGE</i> es un paquete de <strong>software matemático libre y de código abierto</strong> bajo licencia GNU GPL. \n",
    "\n",
    "En realidad _SAGE_ engloba, bajo una misma interface, a cerca de un centenar de paquetes de software matemático libre, poniéndolos a disposición del usuario de forma transparente. \n",
    "\n",
    "El lenguaje de programación empleado para ello es **Python** y en ese sentido, el lenguaje propio de _SAGE_ es compatible en un 99% con Python. \n",
    "\n",
    "Para instrucciones, manuales y descargas se puede visitar <a href=\"http://www.sagemath.org\">http://www.sagemath.org</a>"
   ]
  },
  {
   "cell_type": "markdown",
   "metadata": {},
   "source": [
    "<h2><a name=\"tema1\"></a>1. Fundamentos de la Teoría de Grafos (MD)</h2>"
   ]
  },
  {
   "cell_type": "markdown",
   "metadata": {},
   "source": [
    "<h3><a name=\"tema1.1\"></a>1.1 Introducción a grafos simples</h3>"
   ]
  },
  {
   "cell_type": "markdown",
   "metadata": {},
   "source": [
    "<h3><a name=\"tema1.2\"></a>1.2 Variantes de grafos</h3>"
   ]
  },
  {
   "cell_type": "markdown",
   "metadata": {},
   "source": [
    "<h3><a name=\"tema1.3\"></a>1.3 Aspectos de grafos</h3>"
   ]
  },
  {
   "cell_type": "markdown",
   "metadata": {},
   "source": [
    "<h3><a name=\"tema1.4\"></a>1.4 Grafos conexos</h3>"
   ]
  },
  {
   "cell_type": "markdown",
   "metadata": {},
   "source": [
    "<h3><a name=\"tema1.5\"></a>1.5 Árboles</h3>"
   ]
  },
  {
   "cell_type": "markdown",
   "metadata": {},
   "source": [
    "<h3><a name=\"tema1.6\"></a>1.6 Distancias en grafos (no ponderados)</h3>"
   ]
  },
  {
   "cell_type": "markdown",
   "metadata": {},
   "source": [
    "<h3>1.7 <a name=\"tema1.7\"></a> Densidad y dispersión</h3>"
   ]
  },
  {
   "cell_type": "markdown",
   "metadata": {},
   "source": [
    "<h3><a name=\"tema1.8\"></a>1.8 Matriz Laplaciana</h3>"
   ]
  },
  {
   "cell_type": "markdown",
   "metadata": {},
   "source": [
    "<h2><a name=\"tema2\"></a>2 Medidas y métricas en redes</h3>"
   ]
  },
  {
   "cell_type": "markdown",
   "metadata": {},
   "source": [
    "<h3><a name=\"tema2.1\"></a>2.1 Centralidad de grado</h3>"
   ]
  },
  {
   "cell_type": "markdown",
   "metadata": {},
   "source": [
    "<h3><a name=\"tema2.2\"></a>2.2 Centro del grafo</h3>"
   ]
  },
  {
   "cell_type": "markdown",
   "metadata": {},
   "source": [
    "<h3><a name=\"tema2.3\"></a>2.3 Autocentralidad</h3>"
   ]
  },
  {
   "cell_type": "markdown",
   "metadata": {},
   "source": [
    "<h3><a name=\"tema2.4\"></a>2.4 Centralidad de Katz</h3>"
   ]
  },
  {
   "cell_type": "markdown",
   "metadata": {},
   "source": [
    "<h3><a name=\"tema2.5\"></a>2.5 PageRank</h3>"
   ]
  },
  {
   "cell_type": "markdown",
   "metadata": {},
   "source": [
    "<h3><a name=\"tema2.6\"></a>2.6 Centralidad de proximidad</h3>"
   ]
  },
  {
   "cell_type": "markdown",
   "metadata": {},
   "source": [
    "<h3><a name=\"tema2.7\"></a>2.7. Intermediación</h3>"
   ]
  },
  {
   "cell_type": "markdown",
   "metadata": {},
   "source": [
    "<h3><a name=\"tema2.8\"></a>2.8. Autoridades y cubos</h3>"
   ]
  },
  {
   "cell_type": "markdown",
   "metadata": {},
   "source": [
    "<h3><a name=\"tema2.9\"></a>2.9. Grupos de vértices</h3>"
   ]
  },
  {
   "cell_type": "markdown",
   "metadata": {},
   "source": [
    "<h3><a name=\"tema2.10\"></a>2.10. Transitividad</h3>"
   ]
  },
  {
   "cell_type": "markdown",
   "metadata": {},
   "source": [
    "<h2><a name=\"grafoPropuesto\"></a>3. Propuesta de implementación</h3>"
   ]
  },
  {
   "cell_type": "markdown",
   "metadata": {},
   "source": [
    "<p> </p>\n",
    "<p> </p>"
   ]
  },
  {
   "cell_type": "markdown",
   "metadata": {},
   "source": [
    "<p> </p>\n",
    "<p> </p>"
   ]
  },
  {
   "cell_type": "markdown",
   "metadata": {},
   "source": [
    "<p> </p>\n",
    "<p> </p>"
   ]
  },
  {
   "cell_type": "markdown",
   "metadata": {},
   "source": [
    "<p> </p>\n",
    "<p> </p>"
   ]
  },
  {
   "cell_type": "markdown",
   "metadata": {},
   "source": [
    "<p> </p>\n",
    "<p> </p>"
   ]
  }
 ],
 "metadata": {
  "kernelspec": {
   "display_name": "SageMath 9.3",
   "language": "sage",
   "name": "sagemath"
  },
  "language": "python",
  "language_info": {
   "codemirror_mode": {
    "name": "ipython",
    "version": 3
   },
   "file_extension": ".py",
   "mimetype": "text/x-python",
   "name": "python",
   "nbconvert_exporter": "python",
   "pygments_lexer": "ipython3",
   "version": "3.7.10"
  }
 },
 "nbformat": 4,
 "nbformat_minor": 2
}
